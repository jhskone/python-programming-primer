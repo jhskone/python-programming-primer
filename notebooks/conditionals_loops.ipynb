{
 "cells": [
  {
   "cell_type": "markdown",
   "metadata": {},
   "source": [
    "# Control Flow: Conditionals and Loops"
   ]
  },
  {
   "cell_type": "markdown",
   "metadata": {},
   "source": [
    "## Overview"
   ]
  },
  {
   "cell_type": "markdown",
   "metadata": {},
   "source": [
    "From the previous notebook you should at least now have familiarity with the basic elements of a program: (i.e. variables of different types). \n",
    "\n",
    "In the second part of the workshop we will see how to build new functions, which provide a mechanism to break down code into smaller functional pieces."
   ]
  },
  {
   "cell_type": "markdown",
   "metadata": {},
   "source": [
    "## Conditional statements: if and else"
   ]
  },
  {
   "cell_type": "markdown",
   "metadata": {},
   "source": [
    "Life is made of decisions, and any minimally versatile code will need to execute different instructions depending on some criteria. An example from daily life would be: if it is hot, open the window; if it is not hot, don't! All programming languages provide mechanism to conditionally execute a piece of code. In python it takes the form:\n",
    "\n",
    "    if 6 > 5:\n",
    "        print(\"Six is greater than five!\")"
   ]
  },
  {
   "cell_type": "code",
   "execution_count": null,
   "metadata": {},
   "outputs": [],
   "source": []
  },
  {
   "cell_type": "markdown",
   "metadata": {},
   "source": [
    "That was our first multi-line piece of code, and we need to pay attention to the indentation on the second line (the notebook tries to take care of this for you).\n",
    "Make sure to hit space four times before typing the second line; Python needs them to understand what we want it to do.  \n",
    "\n",
    "So what is going on here? When Python encounters the *if* keyword, it evaluates the expression following the keyword and before the colon. This expression must always evaluate to a boolean type, i.e. evaluate to True or evaluate to False.\n",
    "\n",
    "If that expression is True, Python executes the code in the indented code block under the if line. \n",
    "\n",
    "If that expression is False, Python skips over the code block.\n",
    "\n",
    "    a=\"same\"\n",
    "    if 0 > 1:\n",
    "        a=\"changed\"\n",
    "    a"
   ]
  },
  {
   "cell_type": "code",
   "execution_count": null,
   "metadata": {},
   "outputs": [],
   "source": []
  },
  {
   "cell_type": "markdown",
   "metadata": {},
   "source": [
    "By using one *if* statement in the examples above, we have seen that how to execute code if the expression in the if statement is True, and if it is False no code is executed. A \"true choice\" will be executing one piece of code if the expression is True, and another piece of code if it is False. This is done using the *else* statement.\n",
    "\n",
    "    sister_age = 15\n",
    "    brother_age = 12\n",
    "    if sister_age > brother_age:\n",
    "        verdict=\"sister is older\"\n",
    "    else:\n",
    "        verdict=\"brother is older\"\n",
    "        \n",
    "    verdict"
   ]
  },
  {
   "cell_type": "code",
   "execution_count": null,
   "metadata": {},
   "outputs": [],
   "source": []
  },
  {
   "cell_type": "markdown",
   "metadata": {},
   "source": [
    "An *else* is not stand alone and is always associated with a particular *if*.\n",
    "\n",
    "If we have more than two cases, we can use the *elif* keyword to check more cases. We can have as many *elif* cases as we want; Python will go down the code checking each *elif* until it finds a True condition or reaches the default *else* block.\n",
    "\n",
    "    sister_age = 15\n",
    "    brother_age = 12\n",
    "    if sister_age > brother_age:\n",
    "        verdict=\"sister is older\"\n",
    "    elif sister_age == brother_age:\n",
    "        verdict=\"sister and brother are the same age\"\n",
    "    else:\n",
    "        verdict=\"brother is older\"\n",
    "        \n",
    "    verdict"
   ]
  },
  {
   "cell_type": "code",
   "execution_count": null,
   "metadata": {},
   "outputs": [],
   "source": []
  },
  {
   "cell_type": "markdown",
   "metadata": {},
   "source": [
    "You don't have to have an else block, if you don't need it. That just means there isn't default code to execute when none of the if or elif conditions are True:\n",
    "\n",
    "    colour = \"orange\"\n",
    "    if colour == \"green\" or colour == \"red\":\n",
    "        print(\"Christmas colour!\")\n",
    "    elif colour == \"black\" or colour == \"orange\":\n",
    "        print(\"Halloween colour!\")\n",
    "    elif colour == \"pink\":\n",
    "        print(\"Valentine's Day colour!\")"
   ]
  },
  {
   "cell_type": "code",
   "execution_count": null,
   "metadata": {},
   "outputs": [],
   "source": []
  },
  {
   "cell_type": "markdown",
   "metadata": {},
   "source": [
    "Now go back to the cell above and change the first line to read\n",
    "\n",
    "    colour = 'purple'\n",
    "    \n",
    "Execute the cell again.  Notice that, this time, nothing is printed."
   ]
  },
  {
   "cell_type": "markdown",
   "metadata": {},
   "source": [
    "Let us use an *if* statement to conditionally define the value of a variable. First define a variable *x* to have a real number value of your choice.\n",
    "Then build an *if* statement to define a variable *y* that should be the [absolute value](http://mathworld.wolfram.com/AbsoluteValue.html) of *x*. In this exercise we are aming at a general solution, i.e. one that would work for any value of *x*. Change the value of *x*, take positive and negative values, to check your solution works."
   ]
  },
  {
   "cell_type": "code",
   "execution_count": null,
   "metadata": {},
   "outputs": [],
   "source": []
  },
  {
   "cell_type": "markdown",
   "metadata": {},
   "source": [
    "In the previous section we discussed the analogy between lists and strings. The keyword *in* can also be used to test for substrings inside strings\n",
    "\n",
    "    \"banana\" in \"bananarama\""
   ]
  },
  {
   "cell_type": "code",
   "execution_count": null,
   "metadata": {},
   "outputs": [],
   "source": []
  },
  {
   "cell_type": "markdown",
   "metadata": {},
   "source": [
    "We can use the boolean result of this operation in an *if* statement\n",
    "\n",
    "    if \"banana\" in \"bananarama\":\n",
    "        result=\"I love the eighties!\"\n",
    "    else:\n",
    "        result=\"Please choose a more exciting fruit\"\n",
    "        \n",
    "    result"
   ]
  },
  {
   "cell_type": "code",
   "execution_count": null,
   "metadata": {},
   "outputs": [],
   "source": []
  },
  {
   "cell_type": "markdown",
   "metadata": {},
   "source": [
    "## Summary of Conditionals\n",
    "\n",
    "The *if* statement provides a way to branch code execution: \"if *something* do this, otherwise do that\". It is a fundamental programming construct, and is present virtually in every program.\n",
    "\n",
    "The *if* statement provides a mechanism to introduce \"adaptability\" into the code according to circumstances. In the next section we will introduce loops, which are a recurring operation in many programming languages."
   ]
  },
  {
   "cell_type": "markdown",
   "metadata": {},
   "source": [
    "## Repeating instructions: loops"
   ]
  },
  {
   "cell_type": "markdown",
   "metadata": {},
   "source": [
    "The main use of machines is to do things people cannot do, or to repeat the same task many times over. Computers are particularly suited to repeat logical tasks, and can do this in a much more efficient way than people. When programming a computer, repeating tasks is achieved via *loops*, which are a corner stone of many programming languages.\n",
    "\n",
    "In Python there are two types of loops: *for* loops are used when the number of repetitions is known *a priori*; *while* loops repeat the instruction until a specific test condition fails. We will look at how these two types of loops work in more detail."
   ]
  },
  {
   "cell_type": "markdown",
   "metadata": {},
   "source": [
    "### For loops"
   ]
  },
  {
   "cell_type": "markdown",
   "metadata": {},
   "source": [
    "Before starting looking at *for* loops, it is useful to look at the function *range()*. In doing so, we remind ourselves of how to obtain information about a particular function, or any other defined object. This is done by appending a question mark after the object name\n",
    "\n",
    "    range?"
   ]
  },
  {
   "cell_type": "code",
   "execution_count": null,
   "metadata": {},
   "outputs": [],
   "source": []
  },
  {
   "cell_type": "markdown",
   "metadata": {},
   "source": [
    "On the window that poped up below, we can see the information about what the function *range* does. You should not be shy about using this functionality, use it whenever you have doubts about what a given object is or does.\n",
    "\n",
    "As the documentation about the function suggets, the range() function generates a virtual sequence of numbers, a sort of a counter, technically an iterator. If we use the function on its own we don't quite see what is happening\n",
    "\n",
    "    range(6)"
   ]
  },
  {
   "cell_type": "code",
   "execution_count": null,
   "metadata": {},
   "outputs": [],
   "source": []
  },
  {
   "cell_type": "markdown",
   "metadata": {},
   "source": [
    "Things become clearer when we make the result of the function range() explicit by transforming it into a list\n",
    "\n",
    "    list(range(6))"
   ]
  },
  {
   "cell_type": "code",
   "execution_count": null,
   "metadata": {},
   "outputs": [],
   "source": []
  },
  {
   "cell_type": "markdown",
   "metadata": {},
   "source": [
    "When the function range is called with one argument, range() creates a sequence of numbers starting from 0 up to, but not including, the number specified. In this case, a sequence starting from 0 and ending in 5.\n",
    "\n",
    "A sequence starting on any other value can be created, by calling range() with 2 arguments\n",
    "\n",
    "    list(range(2,6))"
   ]
  },
  {
   "cell_type": "code",
   "execution_count": null,
   "metadata": {},
   "outputs": [],
   "source": []
  },
  {
   "cell_type": "markdown",
   "metadata": {},
   "source": [
    "The number sequence is incremented by one by default, but we can specify any other increment with a third argument\n",
    "\n",
    "    list(range(0,10,2))"
   ]
  },
  {
   "cell_type": "code",
   "execution_count": null,
   "metadata": {},
   "outputs": [],
   "source": []
  },
  {
   "cell_type": "markdown",
   "metadata": {},
   "source": [
    "A decreasing sequence can be specifies with a negative step value, and in this case the start of the sequence is greater than the end\n",
    "\n",
    "    list(range(6,0,-1))"
   ]
  },
  {
   "cell_type": "code",
   "execution_count": null,
   "metadata": {},
   "outputs": [],
   "source": []
  },
  {
   "cell_type": "markdown",
   "metadata": {},
   "source": [
    "Now that we have a counter at hand, we can use it to guide a for loop. A very simple piece of code involving a for loop, that repeatedly prints a string to the screen, would be:\n",
    "\n",
    "    for i in range(20):\n",
    "        print(\"All work and no play makes Jack a dull boy.\")\n",
    "    print(\"I had enough!\")"
   ]
  },
  {
   "cell_type": "code",
   "execution_count": null,
   "metadata": {},
   "outputs": [],
   "source": []
  },
  {
   "cell_type": "markdown",
   "metadata": {},
   "source": [
    "Let us analyse in a bit more detail how this code is operating. The first line\n",
    "\n",
    "    for i in range(20):\n",
    "    \n",
    "iniciates the loop. In plain english it could read something like:\n",
    "\n",
    "    For each element we choose to call 'i' in the virtual counter range(20), execute the code that follows.\n",
    "\n",
    "Since our virtual counter has 20 elements, the loop will run 20 times.\n",
    "\n",
    "As with the *if* statement before, below the initial line and indented, we write the instructions to be executed at each loop cycle: the loop body. In this case, we print a string to the screen.\n",
    "\n",
    "The last print statement in our piece of code is not indented, it is **not** part of the loop body, and therefore will be executed after the loop has finished and only once.\n",
    "\n",
    "We re-examine the first line of the *for* loop to note that the element *i* is a variable that takes on a different value of range(20) (in this case) for each cycle of the loop. As with any variable, we could have used any name that we see fit, and we could use that variable within the loop body\n",
    "\n",
    "    for counter_number in range(1,20,2):\n",
    "        print(\"Sheep number \",counter_number)\n",
    "    print(\"The shepherd counted\",counter_number,\"sheep\")"
   ]
  },
  {
   "cell_type": "code",
   "execution_count": null,
   "metadata": {},
   "outputs": [],
   "source": []
  },
  {
   "cell_type": "markdown",
   "metadata": {},
   "source": [
    "Note that after the loop ends the loop variable can still be used and has the last value assigned.\n",
    "\n",
    "Instead of range(), we can also use any list in the loop definition. The loop variable will assume each value on the list, and the loop stops when the list reaches the end.\n",
    "\n",
    "    for item in [0,\"Wittgenstein\",1/137,\"孔夫子\"]:\n",
    "        print(\"List element \",item)"
   ]
  },
  {
   "cell_type": "code",
   "execution_count": null,
   "metadata": {},
   "outputs": [],
   "source": []
  },
  {
   "cell_type": "markdown",
   "metadata": {},
   "source": [
    "So far we have looked only at very simple loop bodies with only one print statement. In general, the loop body will contain some more sophisticated operation\n",
    "\n",
    "    for item in [0,\"Wittgenstein\",1/137,\"孔夫子\"]:\n",
    "        if type(item)==str:\n",
    "            print(item)\n",
    "        else:\n",
    "            print(\"Do not bother\")"
   ]
  },
  {
   "cell_type": "code",
   "execution_count": null,
   "metadata": {},
   "outputs": [],
   "source": []
  },
  {
   "cell_type": "markdown",
   "metadata": {},
   "source": [
    "*Loops are a fundamental part of programming, it is very important that you understand how they work. If there is anything that is not clear in the examples above, please ask a demonstrator.*"
   ]
  },
  {
   "cell_type": "markdown",
   "metadata": {},
   "source": [
    "#### Some loops in action"
   ]
  },
  {
   "cell_type": "markdown",
   "metadata": {},
   "source": [
    "Loops are the work horse of many programs, and when writing programs the future more often than not you will be using at least one loop. Now that we have some basic understanding of the *for* loop functionality, we will look at some examples where it is used to perform some meaningful tasks.\n",
    "\n",
    "We will now pretend that we don't know about the existence of function *len()* and will want to determine the length of a list *l* using a loop. First it is important to acknowledge that we could determine the length of a list by adding 1 repeatedly for each element of the list. Indeed the simple act of counting consists of successively incrementing our \"counter\" by 1. The recognition of the existence of a repetitive pattern is what indicates that we can use a loop to achieve the task.\n",
    "\n",
    "In order to determine the length of a list, we can define a variable *length* which we will update in the loop body as we \"travel\" through the list\n",
    "\n",
    "    l=[0,\"Wittgenstein\",1/137,\"孔夫子\"]\n",
    "    \n",
    "    length=0\n",
    "    for i in l:\n",
    "        length=length+1\n",
    "    length"
   ]
  },
  {
   "cell_type": "code",
   "execution_count": null,
   "metadata": {},
   "outputs": [],
   "source": []
  },
  {
   "cell_type": "markdown",
   "metadata": {},
   "source": [
    "This type of general structure is fairly common when using loops. \n",
    "\n",
    "* Define a *result* variable (in this case called *length*)\n",
    "* Give it an appropriate starting value (in our case, before the loop starts, we have not counted in any elements yet so we set length=0)\n",
    "* Set up the loop, where it starts and where it ends (in this case we loop over all elements of the list *l*)\n",
    "* Update the result variable in the loop body (we redefine the length variable at each step by adding 1 to the current value: length=length+1)\n",
    "* When the loop ends we should have the result variable should have the value we are looking for\n",
    "\n",
    "Note that in this case we are not making use of the loop variable *i* which is taking each value in the list, but we need to specify it in defining the loop.\n",
    "\n",
    "To make clearer how the loop is operating, we can insert a few print() statements. Note that inside the loop the print() statement comes after the *length* variable changes\n",
    "\n",
    "    length=0\n",
    "    print(\"Before the loop starts, length=\",length)\n",
    "    \n",
    "    for i in l:\n",
    "       length=length+1\n",
    "       print(\"In this loop cycle, the list element is \",i,\", and length=\",length)\n",
    "       \n",
    "    print(\"At the end of the loop, length=\",length)\n",
    "    length"
   ]
  },
  {
   "cell_type": "code",
   "execution_count": null,
   "metadata": {},
   "outputs": [],
   "source": []
  },
  {
   "cell_type": "markdown",
   "metadata": {},
   "source": [
    "Try now to adapt the code above to count the number of elements of the list *l* which are of type string. You can store this value as variable *string_count*."
   ]
  },
  {
   "cell_type": "code",
   "execution_count": null,
   "metadata": {},
   "outputs": [],
   "source": []
  },
  {
   "cell_type": "markdown",
   "metadata": {},
   "source": [
    "Another example is how to calculate the factorial of a number *n* using a loop (we again pretend that such a function does not exist in the math python module). Once more, it is important to recognise that the calculation of a factorial can be seen as a repetition of multiplications of increasing integer numbers up to *n*.\n",
    "\n",
    "Following the same general structure as before: we define the result variable as *factorial*; set up a loop going from 1 to *n*; update *factorial* in the loop body.\n",
    "\n",
    "    n=99\n",
    "    \n",
    "    factorial=1\n",
    "    for i in range(1,n+1):\n",
    "        factorial=factorial*i\n",
    "    factorial"
   ]
  },
  {
   "cell_type": "code",
   "execution_count": null,
   "metadata": {},
   "outputs": [],
   "source": []
  },
  {
   "cell_type": "markdown",
   "metadata": {},
   "source": [
    "That is a big number!\n",
    "\n",
    "Note the use of n+1 when using range(). Is it clear why we did it that way?\n",
    "\n",
    "If it is not clear how the code above is operating, choose a smaller value of *n* and insert some print() statements to guide you.\n",
    "If it is still not clear, do ask a demonstrator.\n",
    "\n",
    "#### Building lists\n",
    "\n",
    "Loops can be used to build lists. This is very useful and we will be doing this many times. To build a list we start with an empty list and repeatedly add new elements to it.\n",
    "\n",
    "Let us build a list with integer powers of 11 between -5 and 5.\n",
    "\n",
    "    powers11=[]\n",
    "    for i in range(-5,6):\n",
    "        powers11=powers11+[11**i]\n",
    "    powers11"
   ]
  },
  {
   "cell_type": "code",
   "execution_count": null,
   "metadata": {},
   "outputs": [],
   "source": []
  },
  {
   "cell_type": "markdown",
   "metadata": {},
   "source": [
    "The way we are incrementaly building the list is by at each cyle creating a single element list with the element we wish to add (in this case [11\\*\\*i]) and using the list concatenation operator '+' to join it to the existing list.\n",
    "\n",
    "The use of loops is very common when dealing with lists and transformations on lists. This is because we often want to apply a given operation or test to all elements of the list. As an example we will look on how to extract all the multiples of 3 from a list.\n",
    "\n",
    "We will go through all the elements of the list (here we will take a sequence of numbers between 1 and 20), test if the element is a multiple of 3, and if this is true we add this element to our result variable. The result variable is thus a new list, we will call mult3, that is initially empty and we incremently construct inside the loop.\n",
    "\n",
    "    sequence=list(range(1,21))\n",
    "    \n",
    "    mult3=[]\n",
    "    for i in sequence:\n",
    "        if i%3 == 0:\n",
    "            mult3=mult3+[i]\n",
    "    mult3"
   ]
  },
  {
   "cell_type": "code",
   "execution_count": null,
   "metadata": {},
   "outputs": [],
   "source": []
  },
  {
   "cell_type": "markdown",
   "metadata": {},
   "source": [
    "A given element is only added to the mult3 list if the remainder of its division by 3 is zero."
   ]
  },
  {
   "cell_type": "markdown",
   "metadata": {},
   "source": [
    "### While loops"
   ]
  },
  {
   "cell_type": "markdown",
   "metadata": {},
   "source": [
    "An alternative form of introducing repetition in a program is by using a *while* loop, which is slightly more general than the *for* loop. Instead of repeating a piece of code a fixed number of times (which can be equal to the length of a list) like a *for* loop, a *while* repeats the action until a given test stops being True (i.e. becomes False).\n",
    "\n",
    "The *while* loop can be seen as an hybrid between an *if* statement and a *for* loop: an *if* statement executes a block of code **if** the result of a given test is True; a *while* loop repeatedly executes a block of code **while** the result of the test is True.\n",
    "\n",
    "We will look at an example where we are summing powers of 0.5 from 0 to 10 to see how the *while* loop works\n",
    "\n",
    "    s=0\n",
    "    i=0\n",
    "    while i<=10:\n",
    "        s=s+0.5**i\n",
    "        i=i+1\n",
    "    s"
   ]
  },
  {
   "cell_type": "code",
   "execution_count": null,
   "metadata": {},
   "outputs": [],
   "source": []
  },
  {
   "cell_type": "markdown",
   "metadata": {},
   "source": [
    "In the first two lines we are setting up variables that will manipulate in the loop. In the line\n",
    "\n",
    "    while i<=10:\n",
    "\n",
    "we are setting up the loop, including the test i<=10. Since the variable *i* has the value 0 when entering the loop, the test is true and the idented loop body below this line will repeatedly execute until the variable *i* is no longer less or equal to 10.\n",
    "\n",
    "As with the *for* loop before, we set up a *result* variable, here called *s*, that we initialize to 0 and will increment inside the loop in the line\n",
    "\n",
    "    s=s+0.5**i\n",
    "    \n",
    "Unlike the *for* loop, we must initialize and update a loop variable *i*. The update of the loop variable occurs inside the loop body in line\n",
    "\n",
    "    i=i+1\n",
    "    \n",
    "The update of the loop variable is a crutial step. Without it, *i* would always keep the value 0, the test i<=10 would always be True and the loop would continue for all eternity (in theory). This type of infinit loop is not an uncommon bug in programming, and is easy to fall into with a *while* loop. You can give it a try by removing the line of code that updates *i* and executing th cell. Your notebook is now locked in an infinite loop. **Do not panic.** Go to the 'Kernel' tab on the notebook menu and 'Interrupt' the kernel execution. *Lesson is: watch out for your test condition and make sure the loop will stop at some point.*"
   ]
  },
  {
   "cell_type": "markdown",
   "metadata": {},
   "source": [
    "A situation where using a *while* loop is advantageous is when performing a search for the first element in a sequence. We don't necessarily want to go through all the elements, we simple want to find the first. For example, the following code counts after how many characters does the first sentence in the text (represented by a string) has. Let us first define the text."
   ]
  },
  {
   "cell_type": "code",
   "execution_count": null,
   "metadata": {},
   "outputs": [],
   "source": [
    "macbeth='''To-morrow, and to-morrow, and to-morrow,\n",
    "Creeps in this petty pace from day to day,\n",
    "To the last syllable of recorded time;\n",
    "And all our yesterdays have lighted fools\n",
    "The way to dusty death. Out, out, brief candle!\n",
    "Life's but a walking shadow, a poor player\n",
    "That struts and frets his hour upon the stage\n",
    "And then is heard no more. It is a tale\n",
    "Told by an idiot, full of sound and fury\n",
    "Signifying nothing.'''"
   ]
  },
  {
   "cell_type": "markdown",
   "metadata": {},
   "source": [
    "The code would look like\n",
    "\n",
    "    i=0\n",
    "    while macbeth[i]!= '.':\n",
    "        i=i+1\n",
    "    i"
   ]
  },
  {
   "cell_type": "code",
   "execution_count": null,
   "metadata": {},
   "outputs": [],
   "source": []
  },
  {
   "cell_type": "markdown",
   "metadata": {},
   "source": [
    "The loop will stop when pointing to the position *i* of the string with the full stop.\n",
    "\n",
    "We have been a bit careless writing this code however, the first sentence could have ended with a question or exclamation mark. Further, we could have a rather poorly written text with no punctuation, in which case our code would yield an infinite loop and block the computer. We should thus add the condition to stop the cycle if *i* reaches or exceeds the length of the string. Such safeguards could look like\n",
    "\n",
    "    i=0\n",
    "    while i<len(macbeth) and macbeth[i] not in '.!?':\n",
    "        i=i+1\n",
    "    i"
   ]
  },
  {
   "cell_type": "code",
   "execution_count": null,
   "metadata": {},
   "outputs": [],
   "source": []
  },
  {
   "cell_type": "markdown",
   "metadata": {},
   "source": [
    "Is it clear how our test is working?\n",
    "\n",
    "How would we write code to determine the size of the second sentence in the string using a *while* loop? (You can for example define two extra variable *char_count* and *sentence_count*, and use the latter one in the test condition to stop the loop.)"
   ]
  },
  {
   "cell_type": "code",
   "execution_count": null,
   "metadata": {},
   "outputs": [],
   "source": []
  },
  {
   "cell_type": "markdown",
   "metadata": {},
   "source": [
    "Even if most tasks can be performed using either a *for* or a *while* loop, depending on the particular situation, it can be more \"natural\" to write code using one or the other."
   ]
  },
  {
   "cell_type": "markdown",
   "metadata": {},
   "source": [
    "## Summary of Loops"
   ]
  },
  {
   "cell_type": "markdown",
   "metadata": {},
   "source": [
    "Loops are fundamental operations in many programming languages as they provide repetition and many complex tasks can be achieved by repetition of many simpler steps. In Python there are two basic types of loops: *for* and *while* loops.\n",
    "\n",
    "*for* loops are more suited when the number of repetitions is known in some form *a priori*, or when we wish to select every element of a list or string.\n",
    "\n",
    "*while* loops are more general, they imply repetition while a specific test yields True. It is important to make sure that the loop body will induce changes that will stop the loop at some stage.\n",
    "\n",
    "In both cases, a frequent construct is to set up a *result* variable that is consecutivelly updated inside a loop to achieve the intended value.\n",
    "\n",
    "With loops, we finish introducing the basic pieces of programming. We will next move on to discussing how to package repetitive and or reusable tasks in the form of functions."
   ]
  }
 ],
 "metadata": {
  "kernelspec": {
   "display_name": "Python 3",
   "language": "python",
   "name": "python3"
  },
  "language_info": {
   "codemirror_mode": {
    "name": "ipython",
    "version": 3
   },
   "file_extension": ".py",
   "mimetype": "text/x-python",
   "name": "python",
   "nbconvert_exporter": "python",
   "pygments_lexer": "ipython3",
   "version": "3.5.2"
  }
 },
 "nbformat": 4,
 "nbformat_minor": 1
}
