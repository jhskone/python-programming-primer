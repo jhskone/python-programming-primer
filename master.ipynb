{
 "cells": [
  {
   "cell_type": "markdown",
   "metadata": {},
   "source": [
    " ![](imgs/header.png)"
   ]
  },
  {
   "cell_type": "markdown",
   "metadata": {},
   "source": [
    "<h2> Content Outline </h2>\n",
    "\n",
    "* Day 1     \n",
    "  * Topics and notebooks for Day 1\n",
    "    * <a href=\"notebooks/jupyter_intro.ipynb\"> Git & Jupyter Lab basics </a>\n",
    "    * <a href=\"notebooks/data_struc.ipynb\"> Data Structures in Python </a>\n",
    "    * Manipulating Lists and Arrays \n",
    "    * <a href=\"notebooks/conditionals_loops.ipynb\"> Loops and Control Flow </a>\n",
    "    \n",
    "* Day 2 \n",
    "  * <a href=\"notebooks/day1-rev.ipynb\">Day 1 review</a>\n",
    "  * <a href=\"notebooks/day2.ipynb\">Day 2 notebook</a>\n",
    "     * Functions\n",
    "     * File I/O\n",
    "     * Plotting and Visualization\n",
    "\n",
    "* Day 3\n",
    "  * <a href=\"notebooks/day2-rev.ipynb\">Day 2 review</a>\n",
    "  * <a href=\"notebooks/day3.ipynb\">Day 3 notebook </a>\n",
    "    * Structuring a Program\n",
    "    * More Examples With numpy\n",
    "    * Other Scientific Libraries\n"
   ]
  },
  {
   "cell_type": "markdown",
   "metadata": {},
   "source": [
    "<h2> Supporting Resources </h2>\n",
    "\n",
    "<h3> Quick References </h3>\n",
    "\n",
    "  * <a href=\"docs/jupyter_quickref.pdf\">jupyter quick reference </a> \n",
    "  * <a href=\"docs/python_quickref.pdf\">python quick reference </a> \n",
    "  * <a href=\"docs/matplotlib_quickref.pdf\">matplotlib quick reference </a> \n",
    "  * <a href=\"docs/numpy_quickref.pdf\">numpy quick reference </a> \n",
    "\n",
    "\n",
    "<h3> Course Resources and Communication Tools </h3>\n",
    "\n",
    "* Canvas:  <a href=\"https://canvas.uchicago.edu/courses/17437\">MENG 26030 Canvsas Link</a> \n",
    "* Slack: <a href=\"https://join.slack.com/t/ime-ppp/shared_invite/enQtNDQxMTc2MzkzMDU3LWExOTA0MjBjZDcwOTI5Yjc1ODM4YjdiMWM2NTIxMzVmOGI4YzRkYjRhYTJjMDMxNDg1OTcxZjhhODVlMzc5OT\"> ime-ppp slack workspace </a>\n",
    "\n",
    " ![](imgs/CH.png)"
   ]
  }
 ],
 "metadata": {
  "anaconda-cloud": {},
  "kernelspec": {
   "display_name": "Python 3",
   "language": "python",
   "name": "python3"
  },
  "language_info": {
   "codemirror_mode": {
    "name": "ipython",
    "version": 3
   },
   "file_extension": ".py",
   "mimetype": "text/x-python",
   "name": "python",
   "nbconvert_exporter": "python",
   "pygments_lexer": "ipython3",
   "version": "3.5.2"
  },
  "toc": {
   "nav_menu": {},
   "number_sections": true,
   "sideBar": true,
   "skip_h1_title": false,
   "title_cell": "Table of Contents",
   "title_sidebar": "Contents",
   "toc_cell": false,
   "toc_position": {},
   "toc_section_display": true,
   "toc_window_display": false
  }
 },
 "nbformat": 4,
 "nbformat_minor": 2
}
