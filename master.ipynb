{
 "cells": [
  {
   "cell_type": "markdown",
   "metadata": {},
   "source": [
    "\n",
    "<p style=\"text-align: center;\"><font color=\"#177C97\" size=\"6\"> Python Programming Primer for Engineering Analysis </font></p>\n",
    "\n",
    "<p style=\"text-align: center;\"><img src=\"imgs/pyime.jpg\" alt=\"pyime\" width=\"240\" height=\"240\"></p>\n",
    "<h2><p style=\"text-align: center;\"><font color=\"#8A0000\"> Mark Stoykovich & Jonthan H Skone</p></h2>\n",
    "<h2></font><p style=\"text-align: center;\"><font color=\"#7B7B7B\">  September 25-27 2018</font></p></h2>\n",
    " \n",
    "<h2> </h2>\n",
    "\n",
    "\n"
   ]
  },
  {
   "cell_type": "markdown",
   "metadata": {},
   "source": [
    "<h3> Content Outline </h3>\n",
    "\n",
    "* Material Review\n",
    "   \n",
    "  * <a href=\"Review_Material/functions.ipynb\">Functions Review</a>\n",
    "    \n",
    "  * <a href=\"Review_Material/matplotlib.ipynb\">Matplotlib Review</a>\n",
    "    * Pyplot Example\n",
    "    * Multiplot Example\n",
    "    * Further Reading\n",
    "    \n",
    "  * <a href=\"Review_Material/numpy/numpy-basics.ipynb\">Numpy Review</a>\n",
    "     * Basic Usage\n",
    "     * Simple Example\n",
    "     * Comparison with Built-In Python\n",
    "     * Useful Numpy Operations\n",
    "    \n",
    "* Numerical Methods\n",
    "   * <a href=\"Numerical_Methods/01_Root_Finding/finding_roots.ipynb\">Finding Roots </a>\n",
    "     * Bisection Method\n",
    "     * Newton's Method\n",
    "     * Secant Method\n",
    "     * Brent's Methods\n",
    "   * <a href=\"Numerical_Methods/02_Systems_of_Equations/sys_of_equations.ipynb\">Solving Systems of Equations</a>\n",
    "     * Gaussian Elimination\n",
    "     * LU Factorization\n",
    "     * Partial Pivoting\n",
    "     * Scaling\n",
    "     * Banded Matrices\n",
    "   * <a href=\"Numerical_Methods/03_Interpolation/interpolation.ipynb\">Interpolation </a>\n",
    "     * Constant Interpolation\n",
    "     * Linear Interpolation\n",
    "     * Lagrange Polynomial\n",
    "     * Spline Interpolation\n",
    "     * Natural Cubic Splines\n",
    "     * Interpolation in SciPy\n",
    "   * <a href=\"Numerical_Methods/04_Integration/num_integration.ipynb\">Numerical Integration</a>\n",
    "     * Riemann Sum\n",
    "     * Trapezoidal Integration\n",
    "     * Simpson's Rule\n",
    "     * Integrating Under a Spline\n",
    "     * Newton-Cotes Quadrature\n",
    "     * The Midpoint Rule\n",
    "     * Gaussian Quadrature\n",
    "     * Adaptive Quadrature\n",
    "   * <a href=\"Numerical_Methods/05_Matrix_Diagonalization/matrix_diagonalization.ipynb\"> Matrix Diagonalization</a>\n",
    "     * Power Iteration \n",
    "     * QR Decomposition\n",
    "     * Divide and Conquer\n",
    "     * Diagonalization in Numpy\n",
    "     * Diagonalization in Scipy\n",
    "     * Sparse Linear Algebra\n",
    "   * <a href=\"Numerical_Methods/06_Fitting_and_Optimization/fitting_optimization.ipynb\"> Fitting and Optimization </a>\n",
    "     * Linear Least Squares Fitting\n",
    "     * Nonlinear Least Squares Fitting\n",
    "     * Optimization \n",
    "\n"
   ]
  },
  {
   "cell_type": "markdown",
   "metadata": {},
   "source": [
    "<h3> RCC Help:  </h3>\n",
    "\n",
    "* Email: help@rcc.uchicago.edu \n",
    "* Web: rcc.uchicago.edu\n",
    "* Phone: 773-795-2667\n",
    "* Walk-in: Regenstein Library, suite 216 <p></p>\n",
    " ![](imgs/CH.png)"
   ]
  }
 ],
 "metadata": {
  "anaconda-cloud": {},
  "kernelspec": {
   "display_name": "Python 3",
   "language": "python",
   "name": "python3"
  },
  "language_info": {
   "codemirror_mode": {
    "name": "ipython",
    "version": 3
   },
   "file_extension": ".py",
   "mimetype": "text/x-python",
   "name": "python",
   "nbconvert_exporter": "python",
   "pygments_lexer": "ipython3",
   "version": "3.5.2"
  },
  "toc": {
   "nav_menu": {},
   "number_sections": true,
   "sideBar": true,
   "skip_h1_title": false,
   "title_cell": "Table of Contents",
   "title_sidebar": "Contents",
   "toc_cell": false,
   "toc_position": {},
   "toc_section_display": true,
   "toc_window_display": false
  }
 },
 "nbformat": 4,
 "nbformat_minor": 2
}
